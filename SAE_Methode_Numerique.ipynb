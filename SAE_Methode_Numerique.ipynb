{
 "cells": [
  {
   "cell_type": "markdown",
   "metadata": {},
   "source": [
    "<div id=\"haut\" style=\"border:3px solid black; padding:3%; font-size:300% ; text-align:center; background-color:rgba(255, 0, 0, 0.57); border-radius:10px;\">\n",
    "     Coloration : algorithme de Brelaz\n",
    "</div>\n",
    "<span style=\"text-align:center;\">Par GUPTA Varun Vedic et HUYNH Alexandre du groupe Cygnus, en BUT Info.</span>"
   ]
  },
  {
   "cell_type": "markdown",
   "metadata": {},
   "source": [
    "<h1>Introduction</h1>\n",
    "<p>\n",
    "    Dans le cadre de la SAE \"Exploration algorithmique d'un problème\", nous avons dû réaliser un projet mathématique et informatique. Après réflexion et concertation avec notre professeur référent M. Borino, nous avons choisi de réaliser le projet Coloration: Algorithme de Brelaz.\n",
    "</p>\n",
    "<p>\n",
    "    Description:\n",
    "    <ul>\n",
    "        <li><b>Niveau :</b> ☆☆</li>\n",
    "        <li><b>Description :</b> Nous avons vu en cours un algorithme heuristique permettant d'estimer le nombre chromatique d'un graphe non orienté.</li>\n",
    "        <li><b>Animation :</b> la coloration des différents sommets d'un graphe.</li>  \n",
    "    </ul>\n",
    "</p>\n",
    "<p>\n",
    "    Nous avons rédigé un notebook comprenant différents éléments (problématique, exposé de mathématiques, une solution Python à la question et pour finir une animation illustrant la résolution du problème). Nous avons réparti notre projet d'une durée de <b>AAAAAAAAAAAAAAAAAAAAAAAAAAAAAAAAAAA</b> de la manière suivante:\n",
    "</p>    \n",
    "<p>\n",
    "    <ul>\n",
    "        <li><b>Gupta Varun Vedic:</b> Rédaction du rapport & Animation de l'algorithme</li>\n",
    "        <li><b>Huynh Alexandre:</b> Mise en forme de l'algorithme en code Python & Animation</li>\n",
    "    </ul>\n",
    "</p>\n",
    "<p>\n",
    "    Bien évidemment, nous avons travaillé ensemble et nous nous sommmes entraidés sur les différentes étapes du projet (échanger et partager le code Python etc.) via la plateforme de messagerie instantanée Discord.\n",
    "</p>\n",
    "<hr>\n",
    "\n",
    "<div style=\"border:3px solid black; margin-right: 70%; padding-left:2% ; padding-right:2% ; border-radius:10px;\">\n",
    "    <h1>Sommaire</h1>\n",
    "    <p>\n",
    "        <ol>\n",
    "            <li><a href=\"#haut\">Haut de page</a></li>\n",
    "            <li><a href=\"#histoire\">Histoire</a></li>\n",
    "            <li><a href=\"#principe\">Principe de l'algorithme</a></li>\n",
    "            <li><a href=\"#code\">Code Python</a>\n",
    "                <ol>\n",
    "                    <li><a href=\"#biblio\">Bibliothèques</a></li>\n",
    "                    <li><a href=\"#matrice\">Matrice</a></li>\n",
    "                    <li><a href=\"#algo\">Algorithme de Brelaz</a></li>\n",
    "                    <li><a href=\"#graph\">Représentation graphique</a></li>\n",
    "                    <li><a href=\"#final\">Fonctions réunies</a></li>\n",
    "                </ol>\n",
    "            </li>\n",
    "        </ol>\n",
    "    </p>\n",
    "</div>\n",
    "<hr>"
   ]
  },
  {
   "cell_type": "markdown",
   "metadata": {},
   "source": [
    "<div id=\"histoire\" style=\"border:3px solid black; padding:2%; margin:3% 5% 3% 5%; font-size:200% ; text-align:center; background-color:rgba(255, 0, 0, 0.57); border-radius:10px; vertical-align:middle;\">\n",
    "     Histoire\n",
    "</div>\n",
    "<a href=\"#haut\">Haut de page</a>\n",
    "<p>\n",
    "Les premiers résultats concernant la coloration des graphes touchaient essentiellement la coloration des cartes.Plus précisemment en 1852 où le mathématicien sud-africain et botaniste Francis Guthrie conjecture le théorème des 4 couleurs en cherchant à mettre en couleur une carte d’Angleterre.Ce théorème énonce qu’il n’y avait besoin que de quatre couleurs pour que deux comtés ayant une frontière commune soient de couleurs différentes.Bien plus tard en 1879, le mathématicien anglais Alfred Kempe publia une \"démonstration\" de ce théorème. <br><br>\n",
    "    Cependant 10 années plus tard, un autre mathématicien anglais du nom de  Percy John Heawood réfute la démonstration de Kempe et met en place le théorème des 5 couleurs en s’inspirant de la démonstration de Kempe.De nombreuses améliorations et avancées ont permis de réduire le nombre de couleurs à quatre. <br><br>\n",
    "    En 1976 (presque un siècle plus tard), le mathématicien américain Kenneth Appel et le mathématicien allemand Wolfgang Haken ont pu démontrer ce théorème des 4 couleurs. Notons aussi que la démonstration, plus précisément les preuves des deux mathématiciens a été fortement appuyée par l’ordinateur ( c’est la première fois que l’ordinateur a été autant utilisé).Cette coloration des graphes n’intervient pas seulement dans les cartes mais aussi dans les domaines de la cryptographie, réseaux etc. (dans un premier but précis l’optimisation de ces derniers).\n",
    "Il faut se mettre d’accord sur le fait qu’il est impossible de déterminer le nombre chromatique d’un graphe.Il faut donc bien évidemment l’encadrer avec un minorant et majorant.Pour se faire, il existe différents algorithmes de coloration tel que l’algorithme RLF, glouton mais nous allons voir plus nettement l’algorithme de Brélaz.\n",
    "</p>\n",
    "<h3>Problématique: comment estimer le nombre chromatique à partir d'un graphe non-orienté?</h3>\n",
    "<hr>"
   ]
  },
  {
   "cell_type": "markdown",
   "metadata": {},
   "source": [
    "<div id=\"principe\" style=\"border:3px solid black; padding:2%; margin:3% 5% 3% 5%; font-size:200% ; text-align:center; background-color:rgba(255, 0, 0, 0.57); border-radius:10px; vertical-align:middle;\">\n",
    "     Principe de l'algorithme\n",
    "</div>\n",
    "<a href=\"#haut\">Haut de page</a>\n",
    "<p>\n",
    "    Soit G=(V,E) un graphe connexe et non orienté avec V l’ensemble des sommets et E l’ensemble des arêtes , on cherche à déterminer l’ordre de coloration du graphe.Pour se faire, on calcule le degré de saturation pour chaque sommet v de V (aussi le degré des sommets). Lorsque tous les sommets de G sont coloriés, l’algorithme de Brélaz est terminé.\n",
    "On note que l’algorithme est séquentiel, c'est-à-dire qu’elle colore un seul sommet non colorié à la fois.Rappelons ce qu’un graphe connexe,un graphe est connexe si elle possède qu’une seule composante connexe : Soit x un sommet d'un graphe G . La composante connexe de x est le sous-graphe de G engendré par Γ+(x,|G|)=Γ−(x,|G|) . On le note CC(x,G)). Pour finir rappelons ce qu’est un graphe non orienté,un graphe non orienté G est la donnée de :\n",
    "    <ul>\n",
    "        <li>Un ensemble fini et non vide noté Som(G) appelé les sommets du graphe G.</li>\n",
    "        <li>Un ensemble noté Ar(G) appelé les arêtes du graphe G dont les éléments sont des ensembles formés de deux éléments de Som(G).</li>\n",
    "    </ul>\n",
    "</p>\n",
    "<hr>"
   ]
  },
  {
   "cell_type": "markdown",
   "metadata": {},
   "source": [
    "<div id=\"fonctionnement\" style=\"border:3px solid black; padding:2%; margin:3% 5% 3% 5%; font-size:200% ; text-align:center; background-color:rgba(255, 0, 0, 0.57); border-radius:10px; vertical-align:middle;\">\n",
    "     Fonctionnement de l'algorithme\n",
    "</div>\n",
    "<a href=\"#haut\">Haut de page</a>\n",
    "<p>\n",
    "    a\n",
    "</p>\n",
    "<hr>"
   ]
  },
  {
   "cell_type": "markdown",
   "metadata": {},
   "source": [
    "<div id=\"code\" style=\"border:3px solid black; padding:2%; margin:3% 5% 3% 5%; font-size:200% ; text-align:center; background-color:rgba(255, 0, 0, 0.57); border-radius:10px; vertical-align:middle;\">\n",
    "     Code Python\n",
    "</div>\n",
    "<a href=\"#haut\">Haut de page</a>\n"
   ]
  },
  {
   "cell_type": "markdown",
   "metadata": {},
   "source": [
    "<div id=\"biblio\"></div>\n",
    "<h1 style=\"text-align: center;\">Bibliothèques</h1>\n",
    "<p>\n",
    "    Les bibliothèques Python suivantes seront utilisés pour l'exécution de cet algorithme.\n",
    "</p>"
   ]
  },
  {
   "cell_type": "code",
   "execution_count": 9,
   "metadata": {},
   "outputs": [],
   "source": [
    "# pour l'utilisation de la valeur pi, qui servira à la représentation des graphes\n",
    "from math import * \n",
    "\n",
    "# pour la génération aléatoire des valeurs d'une matrice d'un graphe non orienté\n",
    "from random import * \n",
    "\n",
    "# pour les réprésentations graphiques\n",
    "from matplotlib.pyplot import * \n",
    "\n",
    "# pour les tris des degrés dans un dictionnaire Python\n",
    "import operator "
   ]
  },
  {
   "cell_type": "markdown",
   "metadata": {},
   "source": [
    "<hr>\n",
    "<div id=\"matrice\"></div>\n",
    "<h1 style=\"text-align: center;\">Matrice</h1>\n",
    "<p>\n",
    "    L'algorithme de Brelaz est un algorithme de graphe qui donc implique le traitement de matrices booléennes. Afin de pouvoir traiter les valeurs d'une matrice, il a fallu mettre en forme ce dernier d'une façon à ce que nous puissions utiliser les valeurs de chaques sommets dans notre code Python.\n",
    "</p>\n",
    "<p>\n",
    "    Nous avons donc opté pour un tableau principal en Python composé de plusieurs tableaux qui constituent les différents sommets et lignes d'une matrice.\n",
    "</p>\n",
    "<p>\n",
    "    Par exemple, une matrice de deux sommets x1 et x2 de lignes <code>x1 |0|1|</code> et <code>x2 |1|0|</code>, aura la forme sous tableau Python: <code>[[0,1], [1,0]]</code>.\n",
    "</p>\n",
    "<p>\n",
    "    Nous avons donc défini une fonction <code>affichageMatrice(matrice)</code> permettant d'afficher chaque ligne d'une matrice en tableaux mentionné précédemment, d'une manière structuré servant à des fins de visualisations. Elle affiche simplement avec <code>print()</code> chaque tableaux qui compose le tableau principal qu'est la matrice.\n",
    "</p>"
   ]
  },
  {
   "cell_type": "code",
   "execution_count": 1,
   "metadata": {},
   "outputs": [],
   "source": [
    "def affichageMatrice(matrice):\n",
    "    i=0\n",
    "    while i<len(matrice):\n",
    "        print(matrice[i])\n",
    "        i+=1"
   ]
  },
  {
   "cell_type": "code",
   "execution_count": 6,
   "metadata": {},
   "outputs": [
    {
     "name": "stdout",
     "output_type": "stream",
     "text": [
      "[0, 1, 0, 1]\n",
      "[1, 0, 1, 1]\n",
      "[0, 1, 0, 1]\n",
      "[1, 1, 1, 0]\n"
     ]
    }
   ],
   "source": [
    "# Exemple d'affichage d'une matrice non-orienté de 4 sommets\n",
    "affichageMatrice([[0,1,0,1],\n",
    "                  [1,0,1,1],\n",
    "                  [0,1,0,1],\n",
    "                  [1,1,1,0]])"
   ]
  },
  {
   "cell_type": "markdown",
   "metadata": {},
   "source": [
    "<hr>\n",
    "<div id=\"algo\"></div>\n",
    "<h1 style=\"text-align: center;\">Algorithme de Brelaz</h1>\n",
    "<h2>Fonctions nécessaires</h2>\n",
    "<p>\n",
    "    Nous avons défini une fonction intitulé <code>sommets_ligne()</code> qui prend en paramètre une matrice, et qui retourne un dictionnaire liant chaque sommet à sa ligne respective. Elle permettra un accès facile aux valeurs associés à un sommet en particulier. \n",
    "</p>\n",
    "<p>On associe donc pour n nombre de lignes de la matrice un sommet xn correspondant avec <code>sommet=\"x\"</code>, <code>sommet+=str(i+1)</code> et <code>dico[sommet]=matrice[i]</code>. Dans <code>str(i+1)</code>, on rajoute 1 car les sommets commencent préférablement à partir de x1 qu'à partir de x0, et il n'était pas possible de commencer la boucle à i=0 car les tableaux en Python commencent à l'indice 0.\n",
    "</p>"
   ]
  },
  {
   "cell_type": "code",
   "execution_count": 2,
   "metadata": {},
   "outputs": [],
   "source": [
    "def sommets_ligne(matrice):\n",
    "    dico={}\n",
    "    i=0\n",
    "    while i<len(matrice):\n",
    "        sommet=\"x\"\n",
    "        sommet+=str(i+1)\n",
    "        dico[sommet]=matrice[i]\n",
    "        i+=1\n",
    "    return dico"
   ]
  },
  {
   "cell_type": "code",
   "execution_count": 5,
   "metadata": {},
   "outputs": [
    {
     "name": "stdout",
     "output_type": "stream",
     "text": [
      "{'x1': [0, 1, 0, 1], 'x2': [1, 0, 1, 1], 'x3': [0, 1, 0, 1], 'x4': [1, 1, 1, 0]}\n"
     ]
    }
   ],
   "source": [
    "print(sommets_ligne([[0,1,0,1],\n",
    "                     [1,0,1,1],\n",
    "                     [0,1,0,1],\n",
    "                     [1,1,1,0]]))"
   ]
  },
  {
   "cell_type": "markdown",
   "metadata": {},
   "source": [
    "<p>\n",
    "    Nous avons défini une fonction intitulé <code>degres(matrice)</code> qui prend en paramètre une matrice, et qui retourne un dictionnaire composé des degrés de chaques sommets. Elle fait la somme de chaque ligne de la matrice sous forme de tableau et l'attribue à son sommet dans un dictionnaire.\n",
    "</p>"
   ]
  },
  {
   "cell_type": "code",
   "execution_count": 50,
   "metadata": {},
   "outputs": [],
   "source": [
    "def degres(matrice):\n",
    "    final={}\n",
    "    i=0\n",
    "    while i<len(matrice[0]): #sommet\n",
    "        sommet=\"x\"\n",
    "        sommet+=str(i+1)\n",
    "        final[sommet]=sum(matrice[i])\n",
    "        i+=1\n",
    "    return final"
   ]
  },
  {
   "cell_type": "code",
   "execution_count": 51,
   "metadata": {},
   "outputs": [
    {
     "name": "stdout",
     "output_type": "stream",
     "text": [
      "{'x1': 2, 'x2': 3, 'x3': 2, 'x4': 3}\n"
     ]
    }
   ],
   "source": [
    "print(degres([[0,1,0,1],\n",
    "              [1,0,1,1],\n",
    "              [0,1,0,1],\n",
    "              [1,1,1,0]]))"
   ]
  },
  {
   "cell_type": "markdown",
   "metadata": {},
   "source": [
    "<p>\n",
    "    Nous avons défini une fonction intitulé <code>tri_degre(dico_degre)</code> qui prend en paramètre un dictionnaire de degrés que l'on peut obtenir avec la fonction <code>degres</code>, retournant un nouveau dictionnaire avec les valeurs triés dans l'ordre décroissant en fonction des degrés. La fonction trie donc les degres du dictionnaire du plus grand au plus petit. Ce code a été forcément inspiré de recherches sur Internet.\n",
    "</p>"
   ]
  },
  {
   "cell_type": "code",
   "execution_count": 54,
   "metadata": {},
   "outputs": [],
   "source": [
    "def tri_degre(dico_degre):\n",
    "    sorted_dico = dict( sorted(dico_degre.items(), key=operator.itemgetter(1),reverse=True))\n",
    "    return sorted_dico"
   ]
  },
  {
   "cell_type": "code",
   "execution_count": 55,
   "metadata": {
    "scrolled": true
   },
   "outputs": [
    {
     "name": "stdout",
     "output_type": "stream",
     "text": [
      "{'x2': 3, 'x4': 3, 'x1': 2, 'x3': 2}\n"
     ]
    }
   ],
   "source": [
    "print(tri_degre({'x1': 2, 'x2': 3, 'x3': 2, 'x4': 3}))"
   ]
  },
  {
   "cell_type": "markdown",
   "metadata": {},
   "source": [
    "<p>\n",
    "    Enfin, à des fins de visualisations, nous avons défini une fonction <code>affichageTabBrelaz(matrice)</code> qui représente le résultat de l'algorithme de Brelaz, c'est à dire un tableau composé d'une ligne des sommets triés, des lignes de DSAT et d'une ligne dédiés aux couleurs.\n",
    "</p>"
   ]
  },
  {
   "cell_type": "code",
   "execution_count": 48,
   "metadata": {},
   "outputs": [],
   "source": [
    "def affichageTabBrelaz(matrice):\n",
    "    i=0\n",
    "    tab_final=[]\n",
    "    while i<len(matrice):\n",
    "        j=0\n",
    "        tab_temp=\"\"\n",
    "        # Entête ligne Sommet\n",
    "        if i==0:\n",
    "            tab_temp+=\"Som  \"\n",
    "            \n",
    "        # Entête lignes DSAT\n",
    "        if i>0 and i<len(matrice)-1:\n",
    "            tab_temp+=\"DSAT\"+str(i)\n",
    "        \n",
    "        # Entête ligne couleur\n",
    "        if i==len(matrice)-1:\n",
    "            tab_temp+=\"Coul \"\n",
    "        \n",
    "        while j<len(matrice[0]):\n",
    "            if i>0:\n",
    "                tab_temp+=\" \"\n",
    "            tab_temp+=\" \"+str(matrice[i][j])\n",
    "            j+=1\n",
    "        tab_final.append(tab_temp)\n",
    "        i+=1\n",
    "        \n",
    "    i=0\n",
    "    while i<len(tab_final):\n",
    "        print(tab_final[i])\n",
    "        i+=1\n",
    "        \n",
    "# EXEMPLE DANS LA PARTIE SUIVANTE"
   ]
  },
  {
   "cell_type": "markdown",
   "metadata": {},
   "source": [
    "<h2>Fonction principale</h2>\n",
    "<p>\n",
    "    On vérifie dans le sommet traité s'il a un ou plusieurs lien avec un sommet adjacent colorié, ces derniers étant répertorié dans le tableau des sommets déjà colorié <code>sommets_color</code>. Cette vérification se fait en vérifiant si dans la matrice booléenne, la valeur correspond à 0 ou 1.\n",
    "</p>\n",
    "<p>\n",
    "    Les 0 obtenus dans les DSATs correspondent au fait que ce sommet a déjà été colorié et qu'on ne le traite plus.   \n",
    "</p>\n",
    "<p>\n",
    "    Le code Python suivant peut paraître long dû aux multiples commentaires de structuration et d'explications.  \n",
    "</p>"
   ]
  },
  {
   "cell_type": "code",
   "execution_count": 64,
   "metadata": {},
   "outputs": [],
   "source": [
    "def brelaz(matrice):\n",
    "    #================\n",
    "    # initialisation\n",
    "    #================\n",
    "    # tableau rassemblant les différentes étapes et résultats de l'algo: sommets, DSAT, couleurs\n",
    "    tab_brelaz=[] \n",
    "    \n",
    "    # dictionnaire répertoriant la ligne pour chaque sommet\n",
    "    dico_sommets_lignes=sommets_ligne(matrice) \n",
    "    \n",
    "    # tableau des sommets classés dans l'ordre décroissant par rapport à leur degré\n",
    "    sommets=list(tri_degre(degres(matrice))) #ex: ['x4', 'x7', 'x2']\n",
    "    dsat1=list( (tri_degre(degres(matrice))).values() ) #ex: [4, 3, 1]\n",
    "    \n",
    "    # tableaux et dictionnaires utilisés pour la coloration\n",
    "    sommets_color=[]\n",
    "    tab_color=[]\n",
    "    coloration={}\n",
    "    coloration2={1:[], 2:[], 3:[], 4:[]} #ex: [4, 3, 1]\n",
    "    \n",
    "    #=======================\n",
    "    # début de l'algorithme\n",
    "    #=======================\n",
    "    # car nous avons trié les degrés de la matrice dans l'initialisation\n",
    "    # nous pouvons déjà définir la ligne des sommets triés et de ses degrés dans le DSAT1\n",
    "    tab_brelaz.append(sommets)\n",
    "    tab_brelaz.append(dsat1)\n",
    "    \n",
    "    # car le 1er sommet dans la liste des sommets triés est le plus grand, on le colorie en 1er\n",
    "    sommets_color.append(sommets[0])\n",
    "    coloration[sommets[0]]=1\n",
    "    \n",
    "    #======================\n",
    "    # traitement des DSATs\n",
    "    #======================\n",
    "    # tant qu'il existe des sommets non coloriés\n",
    "    while len(sommets_color)<len(matrice):\n",
    "        dsat_actuel=[]\n",
    "        i=0\n",
    "        #======================================\n",
    "        # traitement de chaques sommets du DSAT\n",
    "        #======================================\n",
    "        # pour chaque sommet\n",
    "        while i<len(matrice[0]):\n",
    "            if sommets[i] in sommets_color:  # si sommet est déja colorié (dans sommets_color), alors case = couleur\n",
    "                dsat_actuel.append(0)\n",
    "            else:  # sinon alors case = nombre de liens avec des sommets colorés\n",
    "                j=0\n",
    "                lien_avec_color=0\n",
    "                while j<len(sommets_color):\n",
    "                    # on cherche dans le sommet en question si il a un lien avec un sommet colorié\n",
    "                    # sous python: on regarde dans le dico si dans la ligne du sommet en question\n",
    "                    # si ce sommet a un lien avec un des sommets coloriés répertoriés dans la liste sommets_color\n",
    "                    if dico_sommets_lignes[sommets[i]][int((sommets_color[j])[1])-1]>0:\n",
    "                        lien_avec_color+=1\n",
    "                    j+=1\n",
    "                # si le sommet n'est lié à aucun sommet colorié, \n",
    "                # alors son DSAT prend la valeur du DSAT précédent\n",
    "                if lien_avec_color==0: \n",
    "                    lien_avec_color=tab_brelaz[1][i]\n",
    "                dsat_actuel.append(lien_avec_color)\n",
    "            i+=1\n",
    "        #===============================================================\n",
    "        # trouver le max et le rajouter à la liste des sommets coloriés\n",
    "        #===============================================================\n",
    "        # on cherche le sommet dans le DSAT traité (dsat_actuel) où son DSAT est le plus grand\n",
    "        # sous python: on cherche dans la liste des sommets triés le sommet à l'indice de position \n",
    "        # correspondant au degrés de saturation le plus grand du tableau dsat_actuel\n",
    "        dsat_max=tab_brelaz[0][dsat_actuel.index(max(dsat_actuel))]\n",
    "        \n",
    "        #====================================================\n",
    "        # actualisation du dictionnaire des sommets coloriés\n",
    "        #====================================================\n",
    "        j=0\n",
    "        while j<len(list(coloration)):\n",
    "            k=1\n",
    "            while k<=4:\n",
    "                if coloration[list(coloration)[j]] == k and list(coloration)[j] not in coloration2[k]:\n",
    "                    coloration2[k].append(list(coloration)[j])\n",
    "                k+=1\n",
    "            j+=1\n",
    "        \n",
    "        #================================================\n",
    "        # nouvelle coloration du sommet dsat_max\n",
    "        #================================================\n",
    "        couleur=1\n",
    "        j=1\n",
    "        while j<=4:\n",
    "            k=0\n",
    "            # on vérifie si la couleur j est prise en regardant si le sommet le plus grand\n",
    "            # de la dsat traité a un sommet adjacent de couleur j\n",
    "            while k<len(coloration2[j]):\n",
    "                if dico_sommets_lignes[dsat_max][int((coloration2[j][k])[1])-1]>0:\n",
    "                    couleur+=1\n",
    "                    break #sortie de boucle\n",
    "                k+=1\n",
    "            j+=1\n",
    "        coloration[dsat_max]=couleur\n",
    "        sommets_color.append(dsat_max)\n",
    "        #================================================\n",
    "        # nouvelle coloration du sommet dsat_max\n",
    "        #================================================\n",
    "        \n",
    "        tab_brelaz.append(dsat_actuel)\n",
    "    #========================================================\n",
    "    # rajout de la ligne Couleurs à la fin du tableau brelaz\n",
    "    #========================================================\n",
    "    i=0\n",
    "    while i<len(sommets_color):\n",
    "        tab_color.append(coloration[sommets[i]])\n",
    "        i+=1\n",
    "    tab_brelaz.append(tab_color)\n",
    "    print(coloration2,\"\\n\")\n",
    "    return tab_brelaz"
   ]
  },
  {
   "cell_type": "code",
   "execution_count": 52,
   "metadata": {
    "scrolled": false
   },
   "outputs": [
    {
     "name": "stdout",
     "output_type": "stream",
     "text": [
      "{1: ['x2', 'x1'], 2: ['x7', 'x4'], 3: ['x3', 'x6'], 4: []} \n",
      "\n",
      "Som   x2 x7 x4 x1 x3 x6 x5\n",
      "DSAT1  4  4  3  2  2  2  1\n",
      "DSAT2  0  1  1  2  1  1  1\n",
      "DSAT3  0  2  2  0  1  1  1\n",
      "DSAT4  0  0  2  0  1  2  1\n",
      "DSAT5  0  0  0  0  2  2  1\n",
      "DSAT6  0  0  0  0  0  2  1\n",
      "DSAT7  0  0  0  0  0  0  1\n",
      "Coul   1  2  2  1  3  3  2\n"
     ]
    }
   ],
   "source": [
    "affichageTabBrelaz(brelaz([[0,0,0,1,0,0,1], \n",
    "                           [0,0,1,1,0,1,1], \n",
    "                           [0,1,0,1,0,0,0], \n",
    "                           [1,1,1,0,0,0,0],\n",
    "                           [0,0,0,0,0,0,1],\n",
    "                           [0,1,0,0,0,0,1],\n",
    "                           [1,1,0,0,1,1,0]]))"
   ]
  },
  {
   "cell_type": "code",
   "execution_count": 53,
   "metadata": {},
   "outputs": [
    {
     "name": "stdout",
     "output_type": "stream",
     "text": [
      "{1: ['x4', 'x3'], 2: ['x2'], 3: ['x7', 'x6'], 4: ['x1']} \n",
      "\n",
      "Som   x4 x2 x6 x7 x1 x3 x5\n",
      "DSAT1  5  4  4  4  3  3  3\n",
      "DSAT2  0  1  1  1  1  3  1\n",
      "DSAT3  0  2  1  2  1  0  2\n",
      "DSAT4  0  0  1  3  2  0  2\n",
      "DSAT5  0  0  2  0  2  0  2\n",
      "DSAT6  0  0  0  0  3  0  3\n",
      "DSAT7  0  0  0  0  0  0  3\n",
      "Coul   1  2  3  3  4  1  3\n"
     ]
    }
   ],
   "source": [
    "affichageTabBrelaz(brelaz([[0,1,0,1,0,1,0], \n",
    "                           [1,0,1,1,0,0,1], \n",
    "                           [0,1,0,0,1,0,1], \n",
    "                           [1,1,0,0,1,1,1],\n",
    "                           [0,0,1,1,0,1,0],\n",
    "                           [1,0,0,1,1,0,1],\n",
    "                           [0,1,1,1,0,1,0]]))"
   ]
  },
  {
   "cell_type": "code",
   "execution_count": 87,
   "metadata": {},
   "outputs": [
    {
     "name": "stdout",
     "output_type": "stream",
     "text": [
      "{1: ['x2'], 2: ['x1', 'x3'], 3: [], 4: []} \n",
      "\n",
      "Som   x2 x1 x3 x4\n",
      "DSAT1  3  1  1  1\n",
      "DSAT2  0  1  1  1\n",
      "DSAT3  0  0  1  1\n",
      "DSAT4  0  0  0  1\n",
      "Coul   1  2  2  2\n"
     ]
    }
   ],
   "source": [
    "# TESTE CORRECT\n",
    "affichageTabBrelaz(brelaz([[0, 1, 0, 0], \n",
    "                           [1, 0, 1, 1], \n",
    "                           [0, 1, 0, 0], \n",
    "                           [0, 1, 0, 0]]))"
   ]
  },
  {
   "cell_type": "code",
   "execution_count": 77,
   "metadata": {},
   "outputs": [
    {
     "name": "stdout",
     "output_type": "stream",
     "text": [
      "{1: ['x1', 'x7'], 2: ['x6', 'x2'], 3: ['x3'], 4: ['x4']} \n",
      "\n",
      "Som   x1 x6 x7 x3 x4 x2 x5\n",
      "DSAT1  4  4  4  3  3  2  2\n",
      "DSAT2  0  1  4  3  1  1  1\n",
      "DSAT3  0  2  0  1  1  2  2\n",
      "DSAT4  0  0  0  2  2  2  2\n",
      "DSAT5  0  0  0  0  3  2  2\n",
      "DSAT6  0  0  0  0  0  2  2\n",
      "DSAT7  0  0  0  0  0  0  2\n",
      "Coul   1  2  1  3  4  2  2\n"
     ]
    }
   ],
   "source": [
    "# TESTE CORRECT\n",
    "affichageTabBrelaz(brelaz([[0, 1, 0, 1, 1, 1, 0], \n",
    "                           [1, 0, 0, 0, 0, 0, 1], \n",
    "                           [0, 0, 0, 1, 0, 1, 1], \n",
    "                           [1, 0, 1, 0, 0, 1, 0], \n",
    "                           [1, 0, 0, 0, 0, 0, 1], \n",
    "                           [1, 0, 1, 1, 0, 0, 1], \n",
    "                           [0, 1, 1, 0, 1, 1, 0]]))"
   ]
  },
  {
   "cell_type": "code",
   "execution_count": 92,
   "metadata": {},
   "outputs": [
    {
     "name": "stdout",
     "output_type": "stream",
     "text": [
      "{1: ['x2', 'x5'], 2: ['x6', 'x1', 'x7'], 3: ['x4', 'x3'], 4: ['x9']} \n",
      "\n",
      "Som   x2 x5 x6 x1 x4 x9 x3 x7 x8\n",
      "DSAT1  5  4  4  3  3  3  2  1  1\n",
      "DSAT2  0  4  1  1  3  1  1  1  1\n",
      "DSAT3  0  0  2  2  1  1  1  1  1\n",
      "DSAT4  0  0  0  2  1  2  2  1  1\n",
      "DSAT5  0  0  0  0  2  2  2  1  1\n",
      "DSAT6  0  0  0  0  0  3  2  1  1\n",
      "DSAT7  0  0  0  0  0  0  2  1  1\n",
      "DSAT8  0  0  0  0  0  0  0  1  1\n",
      "DSAT9  0  0  0  0  0  0  0  0  1\n",
      "Coul   1  1  2  2  3  4  3  2  2\n"
     ]
    }
   ],
   "source": [
    "#TEST CORRECT\n",
    "affichageTabBrelaz(brelaz([[0, 1, 0, 1, 1, 0, 0, 0, 0], \n",
    "                           [1, 0, 1, 0, 0, 1, 0, 1, 1], \n",
    "                           [0, 1, 0, 0, 0, 1, 0, 0, 0], \n",
    "                           [1, 0, 0, 0, 1, 0, 0, 0, 1], \n",
    "                           [1, 0, 0, 1, 0, 1, 1, 0, 0], \n",
    "                           [0, 1, 1, 0, 1, 0, 0, 0, 1], \n",
    "                           [0, 0, 0, 0, 1, 0, 0, 0, 0], \n",
    "                           [0, 1, 0, 0, 0, 0, 0, 0, 0], \n",
    "                           [0, 1, 0, 1, 0, 1, 0, 0, 0]]))"
   ]
  },
  {
   "cell_type": "markdown",
   "metadata": {},
   "source": [
    "<div id=\"graph\"></div>\n",
    "<h1 style=\"text-align: center;\">Représentation graphique</h1>"
   ]
  },
  {
   "cell_type": "markdown",
   "metadata": {},
   "source": [
    "<p>\n",
    "    Nous avons défini une fonction intitulé <code>indiceToCouleur(indice)</code> qui prend en paramètre un indice entre 1 et 6, et qui retourne son équivalent en indice couleur de la bibliothèque matplot.lib pour la coloration des différents sommets.\n",
    "</p>"
   ]
  },
  {
   "cell_type": "code",
   "execution_count": 68,
   "metadata": {},
   "outputs": [],
   "source": [
    "def indiceToCouleur(indice):\n",
    "    dico_couleur={1: 'r', 2: 'b', 3: 'g', 4: 'y', 5: 'c', 6: 'm'}\n",
    "    return dico_couleur[indice]"
   ]
  },
  {
   "cell_type": "markdown",
   "metadata": {},
   "source": [
    "<p>\n",
    "    Nous avons défini une fonction intitulé <code>couleurDesSommets(tab_brelaz)</code> qui prend en paramètre un tableau obtenu par l'algorithme de Brelaz, et qui retourne un dictionnaire listant la couleur pour chaque sommet.\n",
    "</p>"
   ]
  },
  {
   "cell_type": "code",
   "execution_count": 69,
   "metadata": {},
   "outputs": [],
   "source": [
    "def couleurDesSommets(tab_brelaz) :\n",
    "    sommets=tab_brelaz[0]\n",
    "    couleurs=tab_brelaz[len(tab_brelaz)-1]\n",
    "    dico_couleurs_sommets={}\n",
    "    i=0\n",
    "    while i<len(sommets):\n",
    "        dico_couleurs_sommets[sommets[i]]=couleurs[i]\n",
    "        i+=1\n",
    "    return dico_couleurs_sommets"
   ]
  },
  {
   "cell_type": "markdown",
   "metadata": {},
   "source": [
    "<p>\n",
    "    Ici, nous avons utilisé les fonctions fournies par le professeur M. David Hébert servant à tracer le graphe d'une matrice en Python.\n",
    "</p>\n",
    "<p>\n",
    "    La fonction <code>racineNieme(n)</code> permet générer des coordonnées pour les futurs sommets représentés, et d'espacer les différents sommets dans un repère, prenant en paramètre le nombre de sommets d'une matrice.\n",
    "</p>"
   ]
  },
  {
   "cell_type": "code",
   "execution_count": 70,
   "metadata": {},
   "outputs": [],
   "source": [
    "def racineNieme(n) : \n",
    "    res=[]\n",
    "    for i in range(n) : res.append([cos(2*pi*i/n), sin(2*pi*i/n)]) \n",
    "    return res"
   ]
  },
  {
   "cell_type": "markdown",
   "metadata": {},
   "source": [
    "<p>\n",
    "    La fonction <code>dessigneGraphe(M)</code> a également été fournie par M. David Hébert, et sert au tracage des différents sommets et de leurs liens entres sommets.\n",
    "</p>\n",
    "<p>\n",
    "    Nous avons modifié le code de cette fonction pour que les sommets soient coloré selon les couleurs obtenus à travers l'algorithme de Brelaz, ici à travers la fonction <code>brelaz</code>\n",
    "</p>"
   ]
  },
  {
   "cell_type": "code",
   "execution_count": 66,
   "metadata": {},
   "outputs": [],
   "source": [
    "def dessineGraphe(M) : \n",
    "    nb_sommet = len(M)\n",
    "    tab_brelaz= brelaz(M)\n",
    "    couleur_sommets=couleurDesSommets(tab_brelaz)\n",
    "    \n",
    "    sommet = racineNieme(nb_sommet)\n",
    "    for i in range(nb_sommet) : text(sommet[i][0], sommet[i][1], \"$x_{\"+str(i+1)+\"}$\",fontsize=15, color=\"w\",\n",
    "                                    backgroundcolor=indiceToCouleur(couleur_sommets[\"x\"+str(i+1)]))\n",
    "        \n",
    "    for i in range(nb_sommet) :\n",
    "        for j in range(nb_sommet) : \n",
    "            if(M[i][j]!=0) : \n",
    "                plot([sommet[i][0], sommet[j][0]], [sommet[i][1], sommet[j][1]], color='r')\n",
    "    \n",
    "    show()"
   ]
  },
  {
   "cell_type": "code",
   "execution_count": 159,
   "metadata": {},
   "outputs": [
    {
     "name": "stdout",
     "output_type": "stream",
     "text": [
      "{1: ['x2', 'x1'], 2: ['x7', 'x4'], 3: ['x3', 'x6'], 4: []} \n",
      "\n"
     ]
    },
    {
     "data": {
      "image/png": "[encoded data removed]",
      "text/plain": [
       "<Figure size 432x288 with 1 Axes>"
      ]
     },
     "metadata": {
      "needs_background": "light"
     },
     "output_type": "display_data"
    }
   ],
   "source": [
    "M=[[0,0,0,1,0,0,1], \n",
    "    [0,0,1,1,0,1,1], \n",
    "    [0,1,0,1,0,0,0], \n",
    "    [1,1,1,0,0,0,0],\n",
    "    [0,0,0,0,0,0,1],\n",
    "    [0,1,0,0,0,0,1],\n",
    "    [1,1,0,0,1,1,0]]\n",
    "dessineGraphe(M)"
   ]
  },
  {
   "cell_type": "code",
   "execution_count": 79,
   "metadata": {
    "scrolled": true
   },
   "outputs": [
    {
     "data": {
      "image/png": "[encoded data removed]",
      "text/plain": [
       "<Figure size 432x288 with 1 Axes>"
      ]
     },
     "metadata": {
      "needs_background": "light"
     },
     "output_type": "display_data"
    }
   ],
   "source": [
    "M=[[0,1,0,1,0,1,0], \n",
    "                       [1,0,1,1,0,0,1], \n",
    "                       [0,1,0,0,1,0,1], \n",
    "                       [1,1,0,0,1,1,1],\n",
    "                       [0,0,1,1,0,1,0],\n",
    "                       [1,0,0,1,1,0,1],\n",
    "                       [0,1,1,1,0,1,0]]\n",
    "dessineGraphe(M)"
   ]
  },
  {
   "cell_type": "code",
   "execution_count": 86,
   "metadata": {},
   "outputs": [
    {
     "name": "stdout",
     "output_type": "stream",
     "text": [
      "{1: ['x2'], 2: ['x1', 'x3'], 3: [], 4: []} \n",
      "\n"
     ]
    },
    {
     "data": {
      "image/png": "[encoded data removed]",
      "text/plain": [
       "<Figure size 432x288 with 1 Axes>"
      ]
     },
     "metadata": {
      "needs_background": "light"
     },
     "output_type": "display_data"
    }
   ],
   "source": [
    "#TEST CORRECT\n",
    "dessineGraphe([[0, 1, 0, 0], \n",
    "               [1, 0, 1, 1], \n",
    "               [0, 1, 0, 0], \n",
    "               [0, 1, 0, 0]])"
   ]
  },
  {
   "cell_type": "code",
   "execution_count": 78,
   "metadata": {},
   "outputs": [
    {
     "name": "stdout",
     "output_type": "stream",
     "text": [
      "{1: ['x1', 'x7'], 2: ['x6', 'x2'], 3: ['x3'], 4: ['x4']} \n",
      "\n"
     ]
    },
    {
     "data": {
      "image/png": "[encoded data removed]",
      "text/plain": [
       "<Figure size 432x288 with 1 Axes>"
      ]
     },
     "metadata": {
      "needs_background": "light"
     },
     "output_type": "display_data"
    }
   ],
   "source": [
    "# TESTE CORRECT\n",
    "dessineGraphe([[0, 1, 0, 1, 1, 1, 0], \n",
    "               [1, 0, 0, 0, 0, 0, 1], \n",
    "               [0, 0, 0, 1, 0, 1, 1], \n",
    "               [1, 0, 1, 0, 0, 1, 0], \n",
    "               [1, 0, 0, 0, 0, 0, 1], \n",
    "               [1, 0, 1, 1, 0, 0, 1], \n",
    "               [0, 1, 1, 0, 1, 1, 0]])"
   ]
  },
  {
   "cell_type": "code",
   "execution_count": 93,
   "metadata": {},
   "outputs": [
    {
     "name": "stdout",
     "output_type": "stream",
     "text": [
      "{1: ['x2', 'x5'], 2: ['x6', 'x1', 'x7'], 3: ['x4', 'x3'], 4: ['x9']} \n",
      "\n"
     ]
    },
    {
     "data": {
      "image/png": "[encoded data removed]",
      "text/plain": [
       "<Figure size 432x288 with 1 Axes>"
      ]
     },
     "metadata": {
      "needs_background": "light"
     },
     "output_type": "display_data"
    }
   ],
   "source": [
    "# TESTE CORRECT\n",
    "dessineGraphe([[0, 1, 0, 1, 1, 0, 0, 0, 0], \n",
    "               [1, 0, 1, 0, 0, 1, 0, 1, 1], \n",
    "               [0, 1, 0, 0, 0, 1, 0, 0, 0], \n",
    "               [1, 0, 0, 0, 1, 0, 0, 0, 1], \n",
    "               [1, 0, 0, 1, 0, 1, 1, 0, 0], \n",
    "               [0, 1, 1, 0, 1, 0, 0, 0, 1], \n",
    "               [0, 0, 0, 0, 1, 0, 0, 0, 0], \n",
    "               [0, 1, 0, 0, 0, 0, 0, 0, 0], \n",
    "               [0, 1, 0, 1, 0, 1, 0, 0, 0]])"
   ]
  },
  {
   "cell_type": "markdown",
   "metadata": {},
   "source": [
    "<div id=\"final\"></div>\n",
    "<h1>Fonctions réunies</h1>\n",
    "<p>\n",
    "    Nous avons fait usage d'une fonction fournie par M. David Hébert permettant de générer la matrice d'un graphe non-orienté, prenant en paramètre un nombre de sommets <code>n</code>.\n",
    "</p>"
   ]
  },
  {
   "cell_type": "code",
   "execution_count": 59,
   "metadata": {},
   "outputs": [],
   "source": [
    "def GrapheRand(n, p=0.5, valMax=1) : \n",
    "    res=[]\n",
    "    for i in range(n) : \n",
    "        res.append([])\n",
    "        for j in range(n) : \n",
    "            res[i].append(0)\n",
    "    for i in range(n) : \n",
    "        for j in range(i+1, n) : \n",
    "            if(random()<p) :\n",
    "                res[i][j]=randint(1, valMax)\n",
    "                res[j][i]=res[i][j]\n",
    "    return res"
   ]
  },
  {
   "cell_type": "code",
   "execution_count": 113,
   "metadata": {
    "scrolled": true
   },
   "outputs": [
    {
     "name": "stdout",
     "output_type": "stream",
     "text": [
      "[0, 0, 1, 0, 0]\n",
      "[0, 0, 1, 1, 1]\n",
      "[1, 1, 0, 1, 1]\n",
      "[0, 1, 1, 0, 1]\n",
      "[0, 1, 1, 1, 0]\n"
     ]
    }
   ],
   "source": [
    "affichageMatrice(GrapheRand(5))"
   ]
  },
  {
   "cell_type": "markdown",
   "metadata": {},
   "source": [
    "<p>\n",
    "    Nous avons créer une fonction <code>colorationBrelaz(matrice)</code> qui prend en paramètre une matrice et qui affiche le résultat de l'exécution de l'algorithme de Brelaz, avec le tableau de toutes les DSATs et des couleurs pour chaque sommets, ainsi que le résultat sous forme graphique. \n",
    "</p>\n",
    "\n",
    "<p>\n",
    "    Cette fonction réunit donc les plusieurs fonctions que nous avons défini en une seule fonction d'affichage.\n",
    "</p>"
   ]
  },
  {
   "cell_type": "code",
   "execution_count": 60,
   "metadata": {},
   "outputs": [],
   "source": [
    "def colorationBrelaz(matrice) :\n",
    "    affichageMatrice(brelaz(matrice))\n",
    "    dessineGraphe(matrice)\n",
    "    #ENLEVER PRINT MATRICEAAAAAAAAAAAAAAAAAAAAAAAAAAAAAAAAAAAAAAAAAAAAAAAAAAAAAAA\n",
    "    print(matrice)"
   ]
  },
  {
   "cell_type": "code",
   "execution_count": 185,
   "metadata": {},
   "outputs": [
    {
     "name": "stdout",
     "output_type": "stream",
     "text": [
      "{1: ['x5', 'x1', 'x3'], 2: ['x2', 'x4', 'x7'], 3: [], 4: []} \n",
      "\n",
      "['x5', 'x1', 'x2', 'x3', 'x4', 'x7', 'x6']\n",
      "[4, 3, 3, 3, 3, 3, 1]\n",
      "[0, 3, 1, 3, 1, 1, 1]\n",
      "[0, 0, 2, 3, 2, 2, 1]\n",
      "[0, 0, 3, 0, 3, 3, 1]\n",
      "[0, 0, 0, 0, 3, 3, 1]\n",
      "[0, 0, 0, 0, 0, 3, 1]\n",
      "[0, 0, 0, 0, 0, 0, 1]\n",
      "[1, 1, 2, 1, 2, 2, 2]\n",
      "{1: ['x5', 'x1', 'x3'], 2: ['x2', 'x4', 'x7'], 3: [], 4: []} \n",
      "\n"
     ]
    },
    {
     "data": {
      "image/png": "[encoded data removed]",
      "text/plain": [
       "<Figure size 432x288 with 1 Axes>"
      ]
     },
     "metadata": {
      "needs_background": "light"
     },
     "output_type": "display_data"
    }
   ],
   "source": [
    "colorationBrelaz(GrapheRand(7))"
   ]
  },
  {
   "cell_type": "code",
   "execution_count": 189,
   "metadata": {},
   "outputs": [
    {
     "name": "stdout",
     "output_type": "stream",
     "text": [
      "{1: ['x7', 'x1', 'x9'], 2: ['x5', 'x6'], 3: ['x8', 'x2', 'x3'], 4: []} \n",
      "\n",
      "['x7', 'x5', 'x1', 'x6', 'x8', 'x2', 'x3', 'x4', 'x9']\n",
      "[5, 4, 3, 3, 3, 2, 2, 2, 2]\n",
      "[0, 1, 3, 1, 1, 1, 2, 1, 2]\n",
      "[0, 2, 0, 1, 2, 1, 1, 1, 2]\n",
      "[0, 0, 0, 1, 3, 2, 1, 1, 2]\n",
      "[0, 0, 0, 1, 0, 2, 1, 1, 2]\n",
      "[0, 0, 0, 1, 0, 0, 1, 1, 2]\n",
      "[0, 0, 0, 2, 0, 0, 1, 2, 0]\n",
      "[0, 0, 0, 0, 0, 0, 2, 2, 0]\n",
      "[0, 0, 0, 0, 0, 0, 0, 2, 0]\n",
      "[1, 2, 1, 2, 3, 3, 3, 2, 1]\n",
      "{1: ['x7', 'x1', 'x9'], 2: ['x5', 'x6'], 3: ['x8', 'x2', 'x3'], 4: []} \n",
      "\n"
     ]
    },
    {
     "data": {
      "image/png": "[encoded data removed]",
      "text/plain": [
       "<Figure size 432x288 with 1 Axes>"
      ]
     },
     "metadata": {
      "needs_background": "light"
     },
     "output_type": "display_data"
    }
   ],
   "source": [
    "colorationBrelaz(GrapheRand(9))"
   ]
  },
  {
   "cell_type": "code",
   "execution_count": 91,
   "metadata": {},
   "outputs": [
    {
     "name": "stdout",
     "output_type": "stream",
     "text": [
      "{1: ['x2', 'x5'], 2: ['x6', 'x1', 'x7'], 3: ['x4', 'x3'], 4: ['x9']} \n",
      "\n",
      "Som   x2 x5 x6 x1 x4 x9 x3 x7 x8\n",
      "DSAT1  5  4  4  3  3  3  2  1  1\n",
      "DSAT2  0  4  1  1  3  1  1  1  1\n",
      "DSAT3  0  0  2  2  1  1  1  1  1\n",
      "DSAT4  0  0  0  2  1  2  2  1  1\n",
      "DSAT5  0  0  0  0  2  2  2  1  1\n",
      "DSAT6  0  0  0  0  0  3  2  1  1\n",
      "DSAT7  0  0  0  0  0  0  2  1  1\n",
      "DSAT8  0  0  0  0  0  0  0  1  1\n",
      "DSAT9  0  0  0  0  0  0  0  0  1\n",
      "Coul   1  1  2  2  3  4  3  2  2\n",
      "{1: ['x2', 'x5'], 2: ['x6', 'x1', 'x7'], 3: ['x4', 'x3'], 4: ['x9']} \n",
      "\n"
     ]
    },
    {
     "data": {
      "image/png": "[encoded data removed]",
      "text/plain": [
       "<Figure size 432x288 with 1 Axes>"
      ]
     },
     "metadata": {
      "needs_background": "light"
     },
     "output_type": "display_data"
    },
    {
     "name": "stdout",
     "output_type": "stream",
     "text": [
      "[[0, 1, 0, 1, 1, 0, 0, 0, 0], [1, 0, 1, 0, 0, 1, 0, 1, 1], [0, 1, 0, 0, 0, 1, 0, 0, 0], [1, 0, 0, 0, 1, 0, 0, 0, 1], [1, 0, 0, 1, 0, 1, 1, 0, 0], [0, 1, 1, 0, 1, 0, 0, 0, 1], [0, 0, 0, 0, 1, 0, 0, 0, 0], [0, 1, 0, 0, 0, 0, 0, 0, 0], [0, 1, 0, 1, 0, 1, 0, 0, 0]]\n"
     ]
    }
   ],
   "source": [
    "# POUR LES TESTS\n",
    "colorationBrelaz(GrapheRand(9))"
   ]
  },
  {
   "cell_type": "code",
   "execution_count": null,
   "metadata": {},
   "outputs": [],
   "source": []
  }
 ],
 "metadata": {
  "kernelspec": {
   "display_name": "Python 3",
   "language": "python",
   "name": "python3"
  },
  "language_info": {
   "codemirror_mode": {
    "name": "ipython",
    "version": 3
   },
   "file_extension": ".py",
   "mimetype": "text/x-python",
   "name": "python",
   "nbconvert_exporter": "python",
   "pygments_lexer": "ipython3",
   "version": "3.6.8"
  }
 },
 "nbformat": 4,
 "nbformat_minor": 2
}
